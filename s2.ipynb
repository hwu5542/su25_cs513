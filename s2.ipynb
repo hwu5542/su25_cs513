{
 "cells": [
  {
   "cell_type": "code",
   "execution_count": 1,
   "id": "c2fda2b8",
   "metadata": {},
   "outputs": [],
   "source": [
    "import pandas as pd\n",
    "import numpy as np\n",
    "from pathlib import Path\n",
    "\n",
    "# ROOT_FOLDER = \"NYPL-menus\"\n",
    "ROOT_FOLDER = \"NYPL-menus-cleaned\"\n",
    "\n",
    "MENU = 1\n",
    "MENU_PAGE = 3\n",
    "MENU_ITEM = 2\n",
    "DISH = 0"
   ]
  },
  {
   "cell_type": "markdown",
   "id": "5ddaf1a8",
   "metadata": {},
   "source": [
    "# Data Profiling Workflow Instructions\n",
    "\n",
    "## Accessing Datasets\n",
    "\n",
    "Each dataset can be accessed from the dataset collection using the following keys:\n",
    "\n",
    "```python\n",
    "dataset[\"MENU\"]          # Menu data\n",
    "dataset[\"MENU_PAGE\"]     # Menu page data\n",
    "dataset[\"MENU_ITEM\"]     # Menu item data \n",
    "dataset[\"DISH\"]          # Dish data\n",
    "```\n",
    "\n",
    "## Profiling the Cleaned Dataset\n",
    "\n",
    "Update the ROOT_FOLDER variable to point to your cleaned data directory:\n",
    "\n",
    "```python\n",
    "ROOT_FOLDER = \"NYPL-menus-cleaned\"  # Path to cleaned data\n",
    "```"
   ]
  },
  {
   "cell_type": "code",
   "execution_count": 2,
   "id": "2333f125",
   "metadata": {},
   "outputs": [
    {
     "name": "stdout",
     "output_type": "stream",
     "text": [
      "NYPL-menus-cleaned\\Dish_fixed.csv\n",
      "NYPL-menus-cleaned\\Menu_fixed.csv\n",
      "NYPL-menus-cleaned\\MenuItem_fixed.csv\n",
      "NYPL-menus-cleaned\\MenuPage_fixed.csv\n"
     ]
    }
   ],
   "source": [
    "dataset = []\n",
    "\n",
    "for filename in sorted(Path(ROOT_FOLDER).iterdir()):\n",
    "    print(filename)\n",
    "    if filename.name.endswith(\".csv\"):\n",
    "        dataset.append(pd.read_csv(filename, na_values=[\"\"]))\n"
   ]
  },
  {
   "cell_type": "code",
   "execution_count": 3,
   "id": "c538a475",
   "metadata": {},
   "outputs": [
    {
     "name": "stdout",
     "output_type": "stream",
     "text": [
      "Violations found: 0\n"
     ]
    },
    {
     "data": {
      "text/html": [
       "<div>\n",
       "<style scoped>\n",
       "    .dataframe tbody tr th:only-of-type {\n",
       "        vertical-align: middle;\n",
       "    }\n",
       "\n",
       "    .dataframe tbody tr th {\n",
       "        vertical-align: top;\n",
       "    }\n",
       "\n",
       "    .dataframe thead th {\n",
       "        text-align: right;\n",
       "    }\n",
       "</style>\n",
       "<table border=\"1\" class=\"dataframe\">\n",
       "  <thead>\n",
       "    <tr style=\"text-align: right;\">\n",
       "      <th></th>\n",
       "      <th>id</th>\n",
       "      <th>name</th>\n",
       "      <th>description</th>\n",
       "      <th>menus_appeared</th>\n",
       "      <th>times_appeared</th>\n",
       "      <th>first_appeared</th>\n",
       "      <th>last_appeared</th>\n",
       "      <th>lowest_price</th>\n",
       "      <th>highest_price</th>\n",
       "    </tr>\n",
       "  </thead>\n",
       "  <tbody>\n",
       "  </tbody>\n",
       "</table>\n",
       "</div>"
      ],
      "text/plain": [
       "Empty DataFrame\n",
       "Columns: [id, name, description, menus_appeared, times_appeared, first_appeared, last_appeared, lowest_price, highest_price]\n",
       "Index: []"
      ]
     },
     "execution_count": 3,
     "metadata": {},
     "output_type": "execute_result"
    }
   ],
   "source": [
    "# IC 1: Temporal consistency in Dish\n",
    "ic1_violations = dataset[DISH][dataset[DISH][\"first_appeared\"] > dataset[DISH][\"last_appeared\"]]\n",
    "\n",
    "print(f\"Violations found: {len(ic1_violations)}\")\n",
    "ic1_violations.head(10)"
   ]
  },
  {
   "cell_type": "code",
   "execution_count": 4,
   "id": "27104049",
   "metadata": {},
   "outputs": [
    {
     "data": {
      "text/html": [
       "<div>\n",
       "<style scoped>\n",
       "    .dataframe tbody tr th:only-of-type {\n",
       "        vertical-align: middle;\n",
       "    }\n",
       "\n",
       "    .dataframe tbody tr th {\n",
       "        vertical-align: top;\n",
       "    }\n",
       "\n",
       "    .dataframe thead th {\n",
       "        text-align: right;\n",
       "    }\n",
       "</style>\n",
       "<table border=\"1\" class=\"dataframe\">\n",
       "  <thead>\n",
       "    <tr style=\"text-align: right;\">\n",
       "      <th></th>\n",
       "      <th>id</th>\n",
       "      <th>menu_page_id</th>\n",
       "      <th>price</th>\n",
       "      <th>high_price</th>\n",
       "      <th>dish_id</th>\n",
       "      <th>created_at</th>\n",
       "      <th>updated_at</th>\n",
       "      <th>xpos</th>\n",
       "      <th>ypos</th>\n",
       "    </tr>\n",
       "  </thead>\n",
       "  <tbody>\n",
       "  </tbody>\n",
       "</table>\n",
       "</div>"
      ],
      "text/plain": [
       "Empty DataFrame\n",
       "Columns: [id, menu_page_id, price, high_price, dish_id, created_at, updated_at, xpos, ypos]\n",
       "Index: []"
      ]
     },
     "execution_count": 4,
     "metadata": {},
     "output_type": "execute_result"
    }
   ],
   "source": [
    "dataset[MENU_ITEM][dataset[MENU_ITEM][\"dish_id\"].isin(dataset[DISH].loc[ic1_violations.index, \"id\"])]"
   ]
  },
  {
   "cell_type": "code",
   "execution_count": 5,
   "id": "fa075300",
   "metadata": {},
   "outputs": [
    {
     "name": "stdout",
     "output_type": "stream",
     "text": [
      "Violations found: 0\n"
     ]
    },
    {
     "data": {
      "text/html": [
       "<div>\n",
       "<style scoped>\n",
       "    .dataframe tbody tr th:only-of-type {\n",
       "        vertical-align: middle;\n",
       "    }\n",
       "\n",
       "    .dataframe tbody tr th {\n",
       "        vertical-align: top;\n",
       "    }\n",
       "\n",
       "    .dataframe thead th {\n",
       "        text-align: right;\n",
       "    }\n",
       "</style>\n",
       "<table border=\"1\" class=\"dataframe\">\n",
       "  <thead>\n",
       "    <tr style=\"text-align: right;\">\n",
       "      <th></th>\n",
       "      <th>id</th>\n",
       "      <th>call_number</th>\n",
       "      <th>date</th>\n",
       "      <th>call_prefix</th>\n",
       "      <th>date_prefix</th>\n",
       "    </tr>\n",
       "  </thead>\n",
       "  <tbody>\n",
       "  </tbody>\n",
       "</table>\n",
       "</div>"
      ],
      "text/plain": [
       "Empty DataFrame\n",
       "Columns: [id, call_number, date, call_prefix, date_prefix]\n",
       "Index: []"
      ]
     },
     "execution_count": 5,
     "metadata": {},
     "output_type": "execute_result"
    }
   ],
   "source": [
    "# IC 2: Date Outliner in Menu\n",
    "\n",
    "# Extract first 4 digits of call_number (if not null)\n",
    "dataset[MENU][\"call_prefix\"] = dataset[MENU][\"call_number\"].str[:4]\n",
    "\n",
    "# Extract first 4 digits of date (if not null)\n",
    "dataset[MENU][\"date_prefix\"] = dataset[MENU][\"date\"].str[:4]\n",
    "\n",
    "# Check constraint: call_prefix == date_prefix when both exist\n",
    "ic2_violations = dataset[MENU][\n",
    "    dataset[MENU][\"call_number\"].notna() & \n",
    "    dataset[MENU][\"date\"].notna() & \n",
    "    dataset[MENU][\"call_prefix\"].str.isnumeric() &\n",
    "    dataset[MENU][\"date\"].str.match(r\"[^1]+\") & \n",
    "    (dataset[MENU][\"call_prefix\"] != dataset[MENU][\"date_prefix\"])\n",
    "]\n",
    "\n",
    "print(f\"Violations found: {len(ic2_violations)}\")\n",
    "ic2_violations[[\"id\", \"call_number\", \"date\", \"call_prefix\", \"date_prefix\"]].head()"
   ]
  },
  {
   "cell_type": "code",
   "execution_count": 6,
   "id": "5a127cb9",
   "metadata": {},
   "outputs": [
    {
     "name": "stdout",
     "output_type": "stream",
     "text": [
      "Violations found: 0\n"
     ]
    },
    {
     "data": {
      "text/html": [
       "<div>\n",
       "<style scoped>\n",
       "    .dataframe tbody tr th:only-of-type {\n",
       "        vertical-align: middle;\n",
       "    }\n",
       "\n",
       "    .dataframe tbody tr th {\n",
       "        vertical-align: top;\n",
       "    }\n",
       "\n",
       "    .dataframe thead th {\n",
       "        text-align: right;\n",
       "    }\n",
       "</style>\n",
       "<table border=\"1\" class=\"dataframe\">\n",
       "  <thead>\n",
       "    <tr style=\"text-align: right;\">\n",
       "      <th></th>\n",
       "      <th>id</th>\n",
       "      <th>call_number</th>\n",
       "      <th>date</th>\n",
       "      <th>call_prefix</th>\n",
       "      <th>date_prefix</th>\n",
       "    </tr>\n",
       "  </thead>\n",
       "  <tbody>\n",
       "  </tbody>\n",
       "</table>\n",
       "</div>"
      ],
      "text/plain": [
       "Empty DataFrame\n",
       "Columns: [id, call_number, date, call_prefix, date_prefix]\n",
       "Index: []"
      ]
     },
     "execution_count": 6,
     "metadata": {},
     "output_type": "execute_result"
    }
   ],
   "source": [
    "# IC 3: Date Blank with call number year in Menu\n",
    "\n",
    "# Extract first 4 digits of call_number (if not null)\n",
    "dataset[MENU][\"call_prefix\"] = dataset[MENU][\"call_number\"].str[:4]\n",
    "\n",
    "# Extract first 4 digits of date (if not null)\n",
    "dataset[MENU][\"date_prefix\"] = dataset[MENU][\"date\"].str[:4]\n",
    "\n",
    "# Check constraint: date should not be blank when call_prefix is numeric\n",
    "ic3_violations = dataset[MENU][\n",
    "    dataset[MENU][\"call_number\"].notna() & \n",
    "    dataset[MENU][\"date\"].isna() &\n",
    "    dataset[MENU][\"call_prefix\"].str.isnumeric()\n",
    "]\n",
    "\n",
    "print(f\"Violations found: {len(ic3_violations)}\")\n",
    "ic3_violations[[\"id\", \"call_number\", \"date\", \"call_prefix\", \"date_prefix\"]].head(20)"
   ]
  },
  {
   "cell_type": "code",
   "execution_count": 7,
   "id": "bb205fa1",
   "metadata": {},
   "outputs": [
    {
     "name": "stdout",
     "output_type": "stream",
     "text": [
      "Violations found: 0\n"
     ]
    },
    {
     "data": {
      "text/html": [
       "<div>\n",
       "<style scoped>\n",
       "    .dataframe tbody tr th:only-of-type {\n",
       "        vertical-align: middle;\n",
       "    }\n",
       "\n",
       "    .dataframe tbody tr th {\n",
       "        vertical-align: top;\n",
       "    }\n",
       "\n",
       "    .dataframe thead th {\n",
       "        text-align: right;\n",
       "    }\n",
       "</style>\n",
       "<table border=\"1\" class=\"dataframe\">\n",
       "  <thead>\n",
       "    <tr style=\"text-align: right;\">\n",
       "      <th></th>\n",
       "      <th>id</th>\n",
       "      <th>name</th>\n",
       "      <th>sponsor</th>\n",
       "      <th>event</th>\n",
       "      <th>venue</th>\n",
       "      <th>place</th>\n",
       "      <th>physical_description</th>\n",
       "      <th>occasion</th>\n",
       "      <th>notes</th>\n",
       "      <th>call_number</th>\n",
       "      <th>...</th>\n",
       "      <th>date</th>\n",
       "      <th>location</th>\n",
       "      <th>location_type</th>\n",
       "      <th>currency</th>\n",
       "      <th>currency_symbol</th>\n",
       "      <th>status</th>\n",
       "      <th>page_count</th>\n",
       "      <th>dish_count</th>\n",
       "      <th>call_prefix</th>\n",
       "      <th>date_prefix</th>\n",
       "    </tr>\n",
       "  </thead>\n",
       "  <tbody>\n",
       "  </tbody>\n",
       "</table>\n",
       "<p>0 rows × 22 columns</p>\n",
       "</div>"
      ],
      "text/plain": [
       "Empty DataFrame\n",
       "Columns: [id, name, sponsor, event, venue, place, physical_description, occasion, notes, call_number, keywords, language, date, location, location_type, currency, currency_symbol, status, page_count, dish_count, call_prefix, date_prefix]\n",
       "Index: []\n",
       "\n",
       "[0 rows x 22 columns]"
      ]
     },
     "execution_count": 7,
     "metadata": {},
     "output_type": "execute_result"
    }
   ],
   "source": [
    "# IC 4: Date Blank with no date info in call number in Menu\n",
    "\n",
    "# Extract first 4 digits of call_number (if not null)\n",
    "dataset[MENU][\"call_prefix\"] = dataset[MENU][\"call_number\"].str[:4]\n",
    "\n",
    "# Extract first 4 digits of date (if not null)\n",
    "dataset[MENU][\"date_prefix\"] = dataset[MENU][\"date\"].str[:4]\n",
    "\n",
    "# Check constraint: date should not be blank when call_prefix is numeric\n",
    "ic4_violations = dataset[MENU][\n",
    "    dataset[MENU][\"call_number\"].notna() & \n",
    "    dataset[MENU][\"date\"].isna() & (\n",
    "    (dataset[MENU][\"call_prefix\"] == 'Zand') |\n",
    "    (dataset[MENU][\"call_prefix\"] == 'Soet') |\n",
    "    (dataset[MENU][\"call_prefix\"] == 'soet') |\n",
    "    (dataset[MENU][\"call_prefix\"] == 'Bara') |\n",
    "    (dataset[MENU][\"call_prefix\"] == '_wot'))\n",
    "]\n",
    "\n",
    "print(f\"Violations found: {len(ic4_violations)}\")\n",
    "dataset[MENU].loc[ic4_violations.index]"
   ]
  }
 ],
 "metadata": {
  "kernelspec": {
   "display_name": "base",
   "language": "python",
   "name": "python3"
  },
  "language_info": {
   "codemirror_mode": {
    "name": "ipython",
    "version": 3
   },
   "file_extension": ".py",
   "mimetype": "text/x-python",
   "name": "python",
   "nbconvert_exporter": "python",
   "pygments_lexer": "ipython3",
   "version": "3.9.18"
  }
 },
 "nbformat": 4,
 "nbformat_minor": 5
}
