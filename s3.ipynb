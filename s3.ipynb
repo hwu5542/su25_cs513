{
 "cells": [
  {
   "cell_type": "code",
   "execution_count": 1,
   "id": "d4266d84",
   "metadata": {},
   "outputs": [],
   "source": [
    "import pandas as pd\n",
    "import numpy as np\n",
    "from pathlib import Path\n",
    "\n",
    "ROOT_FOLDER = \"NYPL-menus\"\n",
    "\n",
    "MENU = 1\n",
    "MENU_PAGE = 3\n",
    "MENU_ITEM = 2\n",
    "DISH = 0"
   ]
  },
  {
   "cell_type": "code",
   "execution_count": 2,
   "id": "355d80cd",
   "metadata": {},
   "outputs": [],
   "source": [
    "dataset = []\n",
    "\n",
    "for filename in sorted(Path(ROOT_FOLDER).iterdir()):\n",
    "    if filename.name.endswith(\".csv\"):\n",
    "        dataset.append(pd.read_csv(filename, na_values=[\"\"]))\n",
    "\n",
    "# dataset[MENU].head()\n",
    "# dataset[MENU_PAGE].head()\n",
    "# dataset[MENU_ITEM].head()\n",
    "# dataset[DISH].head()"
   ]
  },
  {
   "cell_type": "code",
   "execution_count": null,
   "id": "190a788e",
   "metadata": {},
   "outputs": [],
   "source": [
    "# IC 1: Temporal consistency in Dish"
   ]
  },
  {
   "cell_type": "code",
   "execution_count": 3,
   "id": "5cff63fb",
   "metadata": {},
   "outputs": [
    {
     "name": "stdout",
     "output_type": "stream",
     "text": [
      "Before Cleaning Applied: 4\n"
     ]
    },
    {
     "data": {
      "text/html": [
       "<div>\n",
       "<style scoped>\n",
       "    .dataframe tbody tr th:only-of-type {\n",
       "        vertical-align: middle;\n",
       "    }\n",
       "\n",
       "    .dataframe tbody tr th {\n",
       "        vertical-align: top;\n",
       "    }\n",
       "\n",
       "    .dataframe thead th {\n",
       "        text-align: right;\n",
       "    }\n",
       "</style>\n",
       "<table border=\"1\" class=\"dataframe\">\n",
       "  <thead>\n",
       "    <tr style=\"text-align: right;\">\n",
       "      <th></th>\n",
       "      <th>id</th>\n",
       "      <th>call_number</th>\n",
       "      <th>date</th>\n",
       "      <th>call_prefix</th>\n",
       "      <th>date_prefix</th>\n",
       "    </tr>\n",
       "  </thead>\n",
       "  <tbody>\n",
       "    <tr>\n",
       "      <th>525</th>\n",
       "      <td>13112</td>\n",
       "      <td>1900-2328</td>\n",
       "      <td>0190-03-06</td>\n",
       "      <td>1900</td>\n",
       "      <td>0190</td>\n",
       "    </tr>\n",
       "    <tr>\n",
       "      <th>14659</th>\n",
       "      <td>32265</td>\n",
       "      <td>1918-0387_wotm</td>\n",
       "      <td>2928-03-26</td>\n",
       "      <td>1918</td>\n",
       "      <td>2928</td>\n",
       "    </tr>\n",
       "    <tr>\n",
       "      <th>16917</th>\n",
       "      <td>34727</td>\n",
       "      <td>1912-0667_wotm</td>\n",
       "      <td>0001-01-01</td>\n",
       "      <td>1912</td>\n",
       "      <td>0001</td>\n",
       "    </tr>\n",
       "    <tr>\n",
       "      <th>16918</th>\n",
       "      <td>34728</td>\n",
       "      <td>1912-0668_wotm</td>\n",
       "      <td>0001-01-01</td>\n",
       "      <td>1912</td>\n",
       "      <td>0001</td>\n",
       "    </tr>\n",
       "  </tbody>\n",
       "</table>\n",
       "</div>"
      ],
      "text/plain": [
       "          id     call_number        date call_prefix date_prefix\n",
       "525    13112       1900-2328  0190-03-06        1900        0190\n",
       "14659  32265  1918-0387_wotm  2928-03-26        1918        2928\n",
       "16917  34727  1912-0667_wotm  0001-01-01        1912        0001\n",
       "16918  34728  1912-0668_wotm  0001-01-01        1912        0001"
      ]
     },
     "execution_count": 3,
     "metadata": {},
     "output_type": "execute_result"
    }
   ],
   "source": [
    "# IC 2: Date Outliner in Menu\n",
    "\n",
    "# Extract first 4 digits of call_number (if not null)\n",
    "dataset[MENU][\"call_prefix\"] = dataset[MENU][\"call_number\"].str[:4]\n",
    "\n",
    "# Extract first 4 digits of date (if not null)\n",
    "dataset[MENU][\"date_prefix\"] = dataset[MENU][\"date\"].str[:4]\n",
    "\n",
    "# Check constraint: call_prefix == date_year when both exist\n",
    "ic2_violations = dataset[MENU][\n",
    "    dataset[MENU][\"call_number\"].notna() & \n",
    "    dataset[MENU][\"date\"].notna() & \n",
    "    dataset[MENU][\"call_prefix\"].str.isnumeric() &\n",
    "    dataset[MENU][\"date\"].str.match(r\"[^1]+\") & \n",
    "    (dataset[MENU][\"call_prefix\"] != dataset[MENU][\"date_prefix\"])\n",
    "]\n",
    "\n",
    "print(f\"Before Cleaning Applied: {len(ic2_violations)}\")\n",
    "dataset[MENU].loc[ic2_violations.index][[\"id\", \"call_number\", \"date\", \"call_prefix\", \"date_prefix\"]]"
   ]
  },
  {
   "cell_type": "code",
   "execution_count": 4,
   "id": "8394009e",
   "metadata": {},
   "outputs": [
    {
     "name": "stdout",
     "output_type": "stream",
     "text": [
      "After Cleaning Applied: 4\n"
     ]
    },
    {
     "data": {
      "text/html": [
       "<div>\n",
       "<style scoped>\n",
       "    .dataframe tbody tr th:only-of-type {\n",
       "        vertical-align: middle;\n",
       "    }\n",
       "\n",
       "    .dataframe tbody tr th {\n",
       "        vertical-align: top;\n",
       "    }\n",
       "\n",
       "    .dataframe thead th {\n",
       "        text-align: right;\n",
       "    }\n",
       "</style>\n",
       "<table border=\"1\" class=\"dataframe\">\n",
       "  <thead>\n",
       "    <tr style=\"text-align: right;\">\n",
       "      <th></th>\n",
       "      <th>id</th>\n",
       "      <th>call_number</th>\n",
       "      <th>date</th>\n",
       "      <th>call_prefix</th>\n",
       "      <th>date_prefix</th>\n",
       "    </tr>\n",
       "  </thead>\n",
       "  <tbody>\n",
       "    <tr>\n",
       "      <th>525</th>\n",
       "      <td>13112</td>\n",
       "      <td>1900-2328</td>\n",
       "      <td>1900-03-06</td>\n",
       "      <td>1900</td>\n",
       "      <td>0190</td>\n",
       "    </tr>\n",
       "    <tr>\n",
       "      <th>14659</th>\n",
       "      <td>32265</td>\n",
       "      <td>1918-0387_wotm</td>\n",
       "      <td>1918-03-26</td>\n",
       "      <td>1918</td>\n",
       "      <td>2928</td>\n",
       "    </tr>\n",
       "    <tr>\n",
       "      <th>16917</th>\n",
       "      <td>34727</td>\n",
       "      <td>1912-0667_wotm</td>\n",
       "      <td>1912-01-01</td>\n",
       "      <td>1912</td>\n",
       "      <td>0001</td>\n",
       "    </tr>\n",
       "    <tr>\n",
       "      <th>16918</th>\n",
       "      <td>34728</td>\n",
       "      <td>1912-0668_wotm</td>\n",
       "      <td>1912-01-01</td>\n",
       "      <td>1912</td>\n",
       "      <td>0001</td>\n",
       "    </tr>\n",
       "  </tbody>\n",
       "</table>\n",
       "</div>"
      ],
      "text/plain": [
       "          id     call_number        date call_prefix date_prefix\n",
       "525    13112       1900-2328  1900-03-06        1900        0190\n",
       "14659  32265  1918-0387_wotm  1918-03-26        1918        2928\n",
       "16917  34727  1912-0667_wotm  1912-01-01        1912        0001\n",
       "16918  34728  1912-0668_wotm  1912-01-01        1912        0001"
      ]
     },
     "execution_count": 4,
     "metadata": {},
     "output_type": "execute_result"
    }
   ],
   "source": [
    "\n",
    "# IC 2: Date Outliner in Menu Cleaning\n",
    "dataset[MENU].loc[ic2_violations.index, \"date\"] = (\n",
    "    dataset[MENU].loc[ic2_violations.index, \"call_prefix\"] + \n",
    "    dataset[MENU].loc[ic2_violations.index, \"date\"].str[4:]\n",
    ")\n",
    "\n",
    "print(f\"After Cleaning Applied: {len(ic2_violations)}\")\n",
    "dataset[MENU].loc[ic2_violations.index][[\"id\", \"call_number\", \"date\", \"call_prefix\", \"date_prefix\"]]"
   ]
  }
 ],
 "metadata": {
  "kernelspec": {
   "display_name": "base",
   "language": "python",
   "name": "python3"
  },
  "language_info": {
   "codemirror_mode": {
    "name": "ipython",
    "version": 3
   },
   "file_extension": ".py",
   "mimetype": "text/x-python",
   "name": "python",
   "nbconvert_exporter": "python",
   "pygments_lexer": "ipython3",
   "version": "3.9.18"
  }
 },
 "nbformat": 4,
 "nbformat_minor": 5
}
