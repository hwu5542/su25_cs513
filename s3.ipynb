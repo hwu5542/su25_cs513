{
 "cells": [
  {
   "cell_type": "code",
   "execution_count": null,
   "id": "d4266d84",
   "metadata": {},
   "outputs": [],
   "source": [
    "import pandas as pd\n",
    "\n",
    "ROOT_FOLDER = \"NYPL-menus\""
   ]
  },
  {
   "cell_type": "code",
   "execution_count": null,
   "id": "355d80cd",
   "metadata": {},
   "outputs": [],
   "source": [
    "menu = pd.read_csv(ROOT_FOLDER + \"/Menu.csv\", na_values=[\"\"])\n",
    "menu_page = pd.read_csv(ROOT_FOLDER + \"/MenuPage.csv\", na_values=[\"\"])\n",
    "menu_item = pd.read_csv(ROOT_FOLDER + \"/MenuItem.csv\", na_values=[\"\"])\n",
    "dish = pd.read_csv(ROOT_FOLDER + \"/Dish.csv\", na_values=[\"\"])"
   ]
  }
 ],
 "metadata": {
  "language_info": {
   "name": "python"
  }
 },
 "nbformat": 4,
 "nbformat_minor": 5
}
